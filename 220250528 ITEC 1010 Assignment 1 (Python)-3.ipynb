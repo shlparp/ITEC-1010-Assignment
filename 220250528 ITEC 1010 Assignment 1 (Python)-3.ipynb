{
 "cells": [
  {
   "cell_type": "markdown",
   "metadata": {},
   "source": [
    "### ITEC1010N  Assignment 1 (python)\n",
    "\n"
   ]
  },
  {
   "cell_type": "markdown",
   "metadata": {},
   "source": [
    "- All answers should be saved to the corresponding variable ie. `ans1`\n",
    "- 10 problems, 10 points each, total 100 points\n",
    "- Please name the file after your student number. 4 points will be deducted for irregular naming.\n",
    "- Late submissions will not be accepted!"
   ]
  },
  {
   "cell_type": "markdown",
   "metadata": {},
   "source": [
    "#### Question1. A list is known [1, 2, 3, 4, 5 ]. Find the length of the list and assign it to `ans1` variable."
   ]
  },
  {
   "cell_type": "code",
   "execution_count": 1,
   "metadata": {},
   "outputs": [
    {
     "name": "stdout",
     "output_type": "stream",
     "text": [
      "5\n"
     ]
    }
   ],
   "source": [
    "# Original Set of Numbers\n",
    "numbers = [1,2,3,4,5]\n",
    "\n",
    "# Find Length of Set\n",
    "ans1 = len(numbers)\n",
    "\n",
    "# Answer\n",
    "print(ans1)"
   ]
  },
  {
   "cell_type": "markdown",
   "metadata": {},
   "source": [
    "#### Question2. A list is known [1, 2, 3, 4, 5 ]. Determine whether element 6 is in the list and assign the answer to `ans2` variable."
   ]
  },
  {
   "cell_type": "code",
   "execution_count": 85,
   "metadata": {},
   "outputs": [
    {
     "name": "stdout",
     "output_type": "stream",
     "text": [
      "False\n"
     ]
    }
   ],
   "source": [
    "# Original Set of Numbers\n",
    "numbers = [1,2,3,4,5]\n",
    "\n",
    "# Is Element 6 In Set of Numbers?\n",
    "ans2 = 6 in numbers\n",
    "\n",
    "# Answer\n",
    "print(ans2)"
   ]
  },
  {
   "cell_type": "markdown",
   "metadata": {},
   "source": [
    "#### Question3.  A list is known [1, 2, 3, 4, 5 ]. Calculate the sum of all elements in this list and assign it to `ans3` variable."
   ]
  },
  {
   "cell_type": "code",
   "execution_count": 86,
   "metadata": {},
   "outputs": [
    {
     "name": "stdout",
     "output_type": "stream",
     "text": [
      "15\n"
     ]
    }
   ],
   "source": [
    "# Original Set of Numbers\n",
    "numbers = [1,2,3,4,5]\n",
    "\n",
    "# Calculate Sum of all Element in List\n",
    "ans3 = sum(numbers)\n",
    "\n",
    "# Answer\n",
    "print(ans3)"
   ]
  },
  {
   "cell_type": "markdown",
   "metadata": {},
   "source": [
    "#### Question4.\tA list is known [1, 2, 3, 4, 5 ]. Add an element 10 at index 1 and assign it to `ans4` variable."
   ]
  },
  {
   "cell_type": "code",
   "execution_count": 82,
   "metadata": {},
   "outputs": [
    {
     "name": "stdout",
     "output_type": "stream",
     "text": [
      "[1, 10, 2, 3, 4, 5]\n"
     ]
    }
   ],
   "source": [
    "# Original Set of Numbers\n",
    "numbers = [1,2,3,4,5]\n",
    "\n",
    "# Number Insert at Index 1\n",
    "numbers.insert(1,10)\n",
    "ans4 = numbers\n",
    "\n",
    "# Answer\n",
    "print(ans4)"
   ]
  },
  {
   "cell_type": "markdown",
   "metadata": {},
   "source": [
    "#### Question5.\tA list is known [1, 2, 3, 4, 5 ]. Add an element 20 to the end of the list and assign it to `ans5` variable."
   ]
  },
  {
   "cell_type": "code",
   "execution_count": 2,
   "metadata": {},
   "outputs": [
    {
     "name": "stdout",
     "output_type": "stream",
     "text": [
      "[1, 2, 3, 4, 5, 20]\n"
     ]
    }
   ],
   "source": [
    "# Original Set of Numbers\n",
    "numbers = [1,2,3,4,5]\n",
    "\n",
    "# Add Element 20 to end of list\n",
    "numbers.append(20)\n",
    "ans5 = numbers\n",
    "\n",
    "# Answer\n",
    "print(ans5)"
   ]
  },
  {
   "cell_type": "markdown",
   "metadata": {},
   "source": [
    "#### Question6. lst = [1,2,3], lst2 = [4,5,6]. Merge lst2 to the end of lst without using the '+' operator and assign new list to `ans6` variable."
   ]
  },
  {
   "cell_type": "code",
   "execution_count": 3,
   "metadata": {},
   "outputs": [
    {
     "name": "stdout",
     "output_type": "stream",
     "text": [
      "[1, 2, 3, 4, 5, 6]\n"
     ]
    }
   ],
   "source": [
    "# Original Set of Numbers\n",
    "numbers1 = [1,2,3]\n",
    "numbers2 = [4,5,6]\n",
    "\n",
    "# Merge set1 with set\n",
    "numbers1.extend(numbers2)\n",
    "ans6 = numbers1\n",
    "\n",
    "# Answer\n",
    "print(ans6)"
   ]
  },
  {
   "cell_type": "markdown",
   "metadata": {},
   "source": [
    "#### Question7. lst = [2, 5, 6, 7, 8, 9, 2, 9, 9]. Calculate the average of the elements in this list and assign it to `ans7` variable."
   ]
  },
  {
   "cell_type": "code",
   "execution_count": 77,
   "metadata": {},
   "outputs": [
    {
     "name": "stdout",
     "output_type": "stream",
     "text": [
      "6.333333333333333\n"
     ]
    }
   ],
   "source": [
    "# Original Set of Numbers\n",
    "numbers = [2,5,6,7,8,9,2,9,9]\n",
    "\n",
    "# Calculate the average of numbers\n",
    "total = sum(numbers)\n",
    "count = len(numbers)\n",
    "average = total / count\n",
    "ans7 = average\n",
    "\n",
    "# Answer\n",
    "print(ans7)"
   ]
  },
  {
   "cell_type": "markdown",
   "metadata": {},
   "source": [
    "#### Question8. lst = [2, 5, 6, 7, 8, 9, 2, 9, 9]. Find the maximum value in  list and assign it to `ans8` variable."
   ]
  },
  {
   "cell_type": "code",
   "execution_count": 67,
   "metadata": {},
   "outputs": [
    {
     "name": "stdout",
     "output_type": "stream",
     "text": [
      "9\n"
     ]
    }
   ],
   "source": [
    "# Original Set of Numbers\n",
    "numbers = [2,5,6,7,8,9,2,9,9]\n",
    "\n",
    "# Maximum Value in Set\n",
    "ans8 = max(numbers)\n",
    "\n",
    "# Answer\n",
    "print(ans8)"
   ]
  },
  {
   "cell_type": "markdown",
   "metadata": {},
   "source": [
    "#### Question8. lst = [2, 5, 6, 7, 8, 9, 2, 9, 9]. Find the maximum number of values in this list and assign it to `ans9` variable."
   ]
  },
  {
   "cell_type": "code",
   "execution_count": 4,
   "metadata": {},
   "outputs": [
    {
     "name": "stdout",
     "output_type": "stream",
     "text": [
      "3\n"
     ]
    }
   ],
   "source": [
    "# Original Set of Numbers\n",
    "numbers = [2,5,6,7,8,9,2,9,9]\n",
    "\n",
    "# Maximum Number of Values in List\n",
    "ans9 = max(numbers.count(value) for value in numbers)\n",
    "\n",
    "# Answer\n",
    "print(ans9)"
   ]
  },
  {
   "cell_type": "markdown",
   "metadata": {},
   "source": [
    "#### Question10.  lst = [2, 5, 6, 7, 8, 9, 2, 9, 9]. Find the index of element 6 in this list and assign it to`ans10` variable."
   ]
  },
  {
   "cell_type": "code",
   "execution_count": 5,
   "metadata": {},
   "outputs": [
    {
     "name": "stdout",
     "output_type": "stream",
     "text": [
      "2\n"
     ]
    }
   ],
   "source": [
    "# Original Set of Numbers\n",
    "numbers = [2,5,6,7,8,9,2,9,9]\n",
    "\n",
    "# Find Index of 6 in Set \n",
    "ans10 = numbers.index(6)\n",
    "\n",
    "# Answer\n",
    "print(ans10)"
   ]
  }
 ],
 "metadata": {
  "kernelspec": {
   "display_name": "Python 3 (ipykernel)",
   "language": "python",
   "name": "python3"
  },
  "language_info": {
   "codemirror_mode": {
    "name": "ipython",
    "version": 3
   },
   "file_extension": ".py",
   "mimetype": "text/x-python",
   "name": "python",
   "nbconvert_exporter": "python",
   "pygments_lexer": "ipython3",
   "version": "3.11.5"
  }
 },
 "nbformat": 4,
 "nbformat_minor": 4
}
